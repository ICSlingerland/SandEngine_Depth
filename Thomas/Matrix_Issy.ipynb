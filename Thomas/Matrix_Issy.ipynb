{
 "cells": [
  {
   "cell_type": "code",
   "execution_count": 3,
   "metadata": {},
   "outputs": [],
   "source": [
    "from PIL import Image\n",
    "import numpy as np\n",
    "from matplotlib import pyplot as plt\n",
    "import coordinates_functions as cf\n",
    "# img = Image.open('c9.jpg')\n",
    "\n",
    "# # Coordinates of the top-left corner of the 10x10 block around the pixel (you need to find this manually)\n",
    "# pix_x, pix_y = 640, 1530 # Replace x, y with actual coordinates\n",
    "# # 1.95662359e+03 1.693  #1.04325614e+03 1.046\n",
    "# # Define the color red in RGB\n",
    "# red = (255, 0, 0)\n",
    "\n",
    "# # Modify a 10x10 area around the pixel\n",
    "# for i in range(pix_x, pix_x + 10):\n",
    "#     for j in range(pix_y, pix_y + 10):\n",
    "#         img.putpixel((i, j), red)\n",
    "# # Save the modified image\n",
    "# img.show()\n",
    "# # plt.imshow(img)\n"
   ]
  },
  {
   "cell_type": "code",
   "execution_count": 13,
   "metadata": {},
   "outputs": [
    {
     "name": "stdout",
     "output_type": "stream",
     "text": [
      "[[7.25034750e+04 4.51753970e+05 2.19000000e+00]\n",
      " [7.25189930e+04 4.51923906e+05 2.21600000e+00]\n",
      " [7.24917740e+04 4.51918553e+05 2.19400000e+00]\n",
      " [7.24457620e+04 4.51871248e+05 2.18100000e+00]\n",
      " [7.24719150e+04 4.51936434e+05 2.48300000e+00]\n",
      " [7.25177620e+04 4.51983216e+05 3.38500000e+00]\n",
      " [7.24767390e+04 4.51991085e+05 5.20600000e+00]]\n"
     ]
    },
    {
     "name": "stderr",
     "output_type": "stream",
     "text": [
      "/Users/isabelslingerland/opt/anaconda3/lib/python3.9/site-packages/pyproj/crs/crs.py:141: FutureWarning: '+init=<authority>:<code>' syntax is deprecated. '<authority>:<code>' is the preferred initialization method. When making the change, be mindful of axis order changes: https://pyproj4.github.io/pyproj/stable/gotchas.html#axis-order-changes-in-proj-6\n",
      "  in_crs_string = _prepare_from_proj_string(in_crs_string)\n",
      "/Users/isabelslingerland/opt/anaconda3/lib/python3.9/site-packages/pyproj/crs/crs.py:141: FutureWarning: '+init=<authority>:<code>' syntax is deprecated. '<authority>:<code>' is the preferred initialization method. When making the change, be mindful of axis order changes: https://pyproj4.github.io/pyproj/stable/gotchas.html#axis-order-changes-in-proj-6\n",
      "  in_crs_string = _prepare_from_proj_string(in_crs_string)\n",
      "/Users/isabelslingerland/Documents/master AES/2nd_year/Q1/SandEngine_Depth/Thomas/coordinates_functions.py:13: FutureWarning: This function is deprecated. See: https://pyproj4.github.io/pyproj/stable/gotchas.html#upgrading-to-pyproj-2-from-pyproj-1\n",
      "  (*pyproj.transform(proj_rd_new, proj_wgs84, point[0], point[1]), point[2])\n"
     ]
    }
   ],
   "source": [
    "# Define the wheel variable\n",
    "wheel = 0.3  # replace this with the actual value for wheel\n",
    "\n",
    "# Define the points with height adjustment\n",
    "points_rd = [\n",
    "    # (\"real1\", 72560.689, 451585.030, 2.837 - wheel),\n",
    "    # (\"real2\", 72430.207, 451376.846, 5.540 - wheel),\n",
    "    # (\"real3\", 72404.804, 451496.345, 2.532 - wheel),\n",
    "    (\"real4\", 72503.475, 451753.970, 2.490 - wheel),\n",
    "    (\"real5\", 72518.993, 451923.906, 2.516 - wheel),\n",
    "    (\"real6\", 72491.774, 451918.553, 2.494 - wheel),\n",
    "    (\"real7\", 72445.762, 451871.248, 2.481 - wheel),\n",
    "    (\"real8\", 72471.915, 451936.434, 2.783 - wheel),\n",
    "    (\"real9\", 72517.762, 451983.216, 3.685 - wheel),\n",
    "    (\"real10\", 72476.739, 451991.085, 5.506 - wheel),\n",
    "]\n",
    "# Extract only the numerical values (skip the first index with identifiers)\n",
    "points_rd_array = np.array([point[1:] for point in points_rd])\n",
    "\n",
    "# Display the array\n",
    "print(points_rd_array)\n",
    "\n",
    "# Convert points\n",
    "points_wgs84 = cf.convert_rd_to_wgs84(points_rd_array)\n"
   ]
  },
  {
   "cell_type": "code",
   "execution_count": 14,
   "metadata": {},
   "outputs": [],
   "source": [
    "points_wgs84_array = np.array(points_wgs84)"
   ]
  },
  {
   "cell_type": "markdown",
   "metadata": {},
   "source": []
  },
  {
   "cell_type": "code",
   "execution_count": 9,
   "metadata": {},
   "outputs": [],
   "source": [
    "\n",
    "\n",
    "im1= np.array([450,  355])\n",
    "im2 = np.array([1300,  255])\n",
    "im3= np.array([1535,  315])\n",
    "im4 = np.array([911,538]) \n",
    "im5 =  np.array([525,1073])\n",
    "im6 = np.array([1181,1032])\n",
    "im7 = np.array([1943,808])\n",
    "im8 = np.array([1732,1138])\n",
    "im9 = np.array([338,1652])\n",
    "im10 = np.array([2058,1644])\n",
    "\n",
    "\n",
    "\n",
    "\n"
   ]
  },
  {
   "cell_type": "markdown",
   "metadata": {},
   "source": [
    "$$\n",
    "x' =  p_{11}X + p_{12}Y + p_{13}Z + p_{14}\n",
    "$$\n",
    "\n",
    "$$\n",
    "y' = p_{21}X + p_{22}Y + p_{23}Z + p_{24}\n",
    "\n",
    "$$\n",
    "\n",
    "$$\n",
    "1=  (p_{31}X + p_{32}Y + p_{33}Z + p_{34})\n",
    "$$\n",
    "\n",
    "\n",
    "\n",
    "System of equations $A \\mathbf{p} = \\mathbf{b}\n",
    "$\n",
    "\n",
    "unknown vector \n",
    "\n",
    "p is\n",
    "\n",
    "$$\n",
    "\\mathbf{p} = \\begin{bmatrix} \n",
    "p_{11} \\\\ \n",
    "p_{12} \\\\ \n",
    "p_{13} \\\\ \n",
    "p_{14} \\\\ \n",
    "p_{21} \\\\ \n",
    "p_{22} \\\\ \n",
    "p_{23} \\\\ \n",
    "p_{24} \\\\ \n",
    "p_{31} \\\\ \n",
    "p_{32} \\\\ \n",
    "p_{33} \\\\ \n",
    "p_{34} \n",
    "\\end{bmatrix}\n",
    "$$\n",
    "\n",
    "$$\n",
    "A = \\begin{bmatrix}\n",
    "X_1 & Y_1 & Z_1 & 1 & 0 & 0 & 0 & 0 & 0 & 0 & 0& 0 \\\\\n",
    "0 & 0 & 0 & 0 & X_1 & Y_1 & Z_1 & 1 & 0 & 0& 0& 0\\\\\n",
    "0 & 0 & 0 & 0 & 0 & 0 & 0 & 0 & X_1 & Y_1 & Z_1 & 1\\\\\n",
    "\n",
    "\\vdots & \\vdots & \\vdots & \\vdots & \\vdots & \\vdots & \\vdots & \\vdots & \\vdots & \\vdots & \\vdots & \\vdots \\\\\n",
    "X_{10} & Y_{10} & Z_{10} & 1 & 0 & 0 & 0 & 0 & 0 & 0 & 0& 0 \\\\\n",
    "0 & 0 & 0 & 0 & X_{10} & Y_{10} & Z_{10} & 1 & 0 & 0& 0& 0\\\\\n",
    "0 & 0 & 0 & 0 & 0 & 0 & 0 & 0 & X_{10} & Y_{10} & Z_{10} & 1\\\\\n",
    "\\end{bmatrix}\n",
    "$$\n",
    "\n",
    "$$\n",
    "\\mathbf{b} = \\begin{bmatrix} \n",
    "x_1' \\\\ \n",
    "y_1' \\\\ \n",
    "1 \\\\\n",
    "\\vdots \\\\ \n",
    "x_{10}' \\\\ \n",
    "y_{10}' \\\\ \n",
    "1 \\\\\n",
    "\\end{bmatrix}\n",
    "$$\n",
    "\n",
    "least squares to find unknown vector P\n"
   ]
  },
  {
   "cell_type": "code",
   "execution_count": 42,
   "metadata": {},
   "outputs": [
    {
     "name": "stdout",
     "output_type": "stream",
     "text": [
      "(7, 3)\n",
      "[ 4.18456596 52.04795365  2.19      ]\n",
      "7\n",
      "[[4.184565960094108, 52.04795364657504, 2.1900000000000004, 1, 0, 0, 0, 0, 0, 0, 0, 0], [0, 0, 0, 0, 4.184565960094108, 52.04795364657504, 2.1900000000000004, 1, 0, 0, 0, 0], [0, 0, 0, 0, 0, 0, 0, 0, 4.184565960094108, 52.04795364657504, 2.1900000000000004, 1], [4.184751117341929, 52.049483081906665, 2.216, 1, 0, 0, 0, 0, 0, 0, 0, 0], [0, 0, 0, 0, 4.184751117341929, 52.049483081906665, 2.216, 1, 0, 0, 0, 0], [0, 0, 0, 0, 0, 0, 0, 0, 4.184751117341929, 52.049483081906665, 2.216, 1], [4.184355680384404, 52.04943092589391, 2.1940000000000004, 1, 0, 0, 0, 0, 0, 0, 0, 0], [0, 0, 0, 0, 4.184355680384404, 52.04943092589391, 2.1940000000000004, 1, 0, 0, 0, 0], [0, 0, 0, 0, 0, 0, 0, 0, 4.184355680384404, 52.04943092589391, 2.1940000000000004, 1], [4.183696463504096, 52.048998969112695, 2.181, 1, 0, 0, 0, 0, 0, 0, 0, 0], [0, 0, 0, 0, 4.183696463504096, 52.048998969112695, 2.181, 1, 0, 0, 0, 0], [0, 0, 0, 0, 0, 0, 0, 0, 4.183696463504096, 52.048998969112695, 2.181, 1], [4.184061908132926, 52.04958865626549, 2.483, 1, 0, 0, 0, 0, 0, 0, 0, 0], [0, 0, 0, 0, 4.184061908132926, 52.04958865626549, 2.483, 1, 0, 0, 0, 0], [0, 0, 0, 0, 0, 0, 0, 0, 4.184061908132926, 52.04958865626549, 2.483, 1], [4.184718858459478, 52.050015886517514, 3.3850000000000002, 1, 0, 0, 0, 0, 0, 0, 0, 0], [0, 0, 0, 0, 4.184718858459478, 52.050015886517514, 3.3850000000000002, 1, 0, 0, 0, 0], [0, 0, 0, 0, 0, 0, 0, 0, 4.184718858459478, 52.050015886517514, 3.3850000000000002, 1], [4.184119021817646, 52.05008049429816, 5.206, 1, 0, 0, 0, 0, 0, 0, 0, 0], [0, 0, 0, 0, 4.184119021817646, 52.05008049429816, 5.206, 1, 0, 0, 0, 0], [0, 0, 0, 0, 0, 0, 0, 0, 4.184119021817646, 52.05008049429816, 5.206, 1]]\n",
      "Projection matrix P:\n",
      "[[-1.59576643e+06 -1.25294672e+05  2.01666463e+02  1.31993812e+07]\n",
      " [ 1.78196810e+05  3.98435658e+05  1.34156442e+02 -2.14832101e+07]\n",
      " [-4.69856663e-07 -2.05030524e-07 -8.76731223e-09  1.00001271e+00]]\n"
     ]
    }
   ],
   "source": [
    "import numpy as np\n",
    "#this is for latitude and longitude values\n",
    "\n",
    "image_points = np.array([im4,\n",
    "                         im5,\n",
    "                        im6,\n",
    "                        im7,\n",
    "                        im8,\n",
    "                        im9,\n",
    "                        im10\n",
    "                         \n",
    "                        ])\n",
    "\n",
    "# Number of points\n",
    "N = points_wgs84_array.shape[0]\n",
    "print(points_wgs84_array.shape)\n",
    "print(points_wgs84_array[0,:])\n",
    "print(N)\n",
    "# Construct the A matrix and b vector\n",
    "A = []\n",
    "b = []\n",
    "\n",
    "for i in range(N):\n",
    "    X, Y, Z = points_wgs84_array[i,:]\n",
    "    x_prime, y_prime = image_points[i,:]\n",
    "    \n",
    "   \n",
    "    A.append([X, Y, Z, 1, 0, 0, 0, 0, 0, 0, 0, 0])\n",
    "    A.append([0, 0, 0, 0, X, Y, Z, 1, 0, 0, 0, 0])\n",
    "    A.append([0, 0, 0, 0, 0, 0, 0, 0, X, Y, Z, 1])\n",
    "    \n",
    "    \n",
    "    b.append(x_prime)\n",
    "    b.append(y_prime)\n",
    "    b.append(1)\n",
    "\n",
    "print(A)\n",
    "A = np.array(A)\n",
    "b = np.array(b)\n",
    "\n",
    "# Solve the system of equations A * p = b\n",
    "# Use least-squares \n",
    "p, _, _, _ = np.linalg.lstsq(A, b, rcond=None)\n",
    "# p= np.linalg.inv(A.T @ A) @ A.T @ b\n",
    "\n",
    "P = p.reshape(3, 4)\n",
    "\n",
    "print(\"Projection matrix P:\")\n",
    "print(P)\n"
   ]
  },
  {
   "cell_type": "code",
   "execution_count": 46,
   "metadata": {},
   "outputs": [
    {
     "name": "stdout",
     "output_type": "stream",
     "text": [
      "(7, 3)\n",
      "[7.2503475e+04 4.5175397e+05 2.1900000e+00]\n",
      "7\n",
      "[[72503.475, 451753.97, 2.1900000000000004, 1, 0, 0, 0, 0, 0, 0, 0, 0], [0, 0, 0, 0, 72503.475, 451753.97, 2.1900000000000004, 1, 0, 0, 0, 0], [0, 0, 0, 0, 0, 0, 0, 0, 72503.475, 451753.97, 2.1900000000000004, 1], [72518.993, 451923.906, 2.216, 1, 0, 0, 0, 0, 0, 0, 0, 0], [0, 0, 0, 0, 72518.993, 451923.906, 2.216, 1, 0, 0, 0, 0], [0, 0, 0, 0, 0, 0, 0, 0, 72518.993, 451923.906, 2.216, 1], [72491.774, 451918.553, 2.1940000000000004, 1, 0, 0, 0, 0, 0, 0, 0, 0], [0, 0, 0, 0, 72491.774, 451918.553, 2.1940000000000004, 1, 0, 0, 0, 0], [0, 0, 0, 0, 0, 0, 0, 0, 72491.774, 451918.553, 2.1940000000000004, 1], [72445.762, 451871.248, 2.181, 1, 0, 0, 0, 0, 0, 0, 0, 0], [0, 0, 0, 0, 72445.762, 451871.248, 2.181, 1, 0, 0, 0, 0], [0, 0, 0, 0, 0, 0, 0, 0, 72445.762, 451871.248, 2.181, 1], [72471.915, 451936.434, 2.483, 1, 0, 0, 0, 0, 0, 0, 0, 0], [0, 0, 0, 0, 72471.915, 451936.434, 2.483, 1, 0, 0, 0, 0], [0, 0, 0, 0, 0, 0, 0, 0, 72471.915, 451936.434, 2.483, 1], [72517.762, 451983.216, 3.3850000000000002, 1, 0, 0, 0, 0, 0, 0, 0, 0], [0, 0, 0, 0, 72517.762, 451983.216, 3.3850000000000002, 1, 0, 0, 0, 0], [0, 0, 0, 0, 0, 0, 0, 0, 72517.762, 451983.216, 3.3850000000000002, 1], [72476.739, 451991.085, 5.206, 1, 0, 0, 0, 0, 0, 0, 0, 0], [0, 0, 0, 0, 72476.739, 451991.085, 5.206, 1, 0, 0, 0, 0], [0, 0, 0, 0, 0, 0, 0, 0, 72476.739, 451991.085, 5.206, 1]]\n",
      "Projection matrix P:\n",
      "[[-2.32775218e+01 -7.40731684e-01  2.01671234e+02  2.02278971e+06]\n",
      " [ 2.65659618e+00  3.53751438e+00  1.34155948e+02 -1.79047177e+06]\n",
      " [ 1.35061962e-11 -2.21753171e-12 -6.40875518e-10  1.00000005e+00]]\n"
     ]
    }
   ],
   "source": [
    "#Easting and Northing values\n",
    "image_points = np.array([im4,\n",
    "                         im5,\n",
    "                        im6,\n",
    "                        im7,\n",
    "                        im8,\n",
    "                        im9,\n",
    "                        im10\n",
    "                         \n",
    "                        ])\n",
    "\n",
    "# Number of points\n",
    "N = points_rd_array.shape[0]\n",
    "print(points_rd_array.shape)\n",
    "print(points_rd_array[0,:])\n",
    "print(N)\n",
    "# Construct the A matrix and b vector\n",
    "A = []\n",
    "b = []\n",
    "\n",
    "for i in range(N):\n",
    "    X, Y, Z = points_rd_array[i,:]\n",
    "    x_prime, y_prime = image_points[i,:]\n",
    "    \n",
    "   \n",
    "    A.append([X, Y, Z, 1, 0, 0, 0, 0, 0, 0, 0, 0])\n",
    "    A.append([0, 0, 0, 0, X, Y, Z, 1, 0, 0, 0, 0])\n",
    "    A.append([0, 0, 0, 0, 0, 0, 0, 0, X, Y, Z, 1])\n",
    "    \n",
    "    \n",
    "    b.append(x_prime)\n",
    "    b.append(y_prime)\n",
    "    b.append(1)\n",
    "\n",
    "print(A)\n",
    "A = np.array(A)\n",
    "b = np.array(b)\n",
    "\n",
    "# Solve the system of equations A * p = b\n",
    "# Use least-squares \n",
    "p, _, _, _ = np.linalg.lstsq(A, b, rcond=None)\n",
    "# p= np.linalg.inv(A.T @ A) @ A.T @ b\n",
    "\n",
    "P_easting_northing = p.reshape(3, 4)\n",
    "\n",
    "print(\"Projection matrix P:\")\n",
    "print(P_easting_northing)\n"
   ]
  },
  {
   "cell_type": "code",
   "execution_count": 146,
   "metadata": {},
   "outputs": [],
   "source": [
    "# Test the projection matrix with our measured GCP \n",
    "# testourGPC = P @ np.array([4.184132079648719, 52.049183608337685 , 2.194, 1])\n",
    "testourGPC_EN = P_easting_northing @ np.array([72475.981, 451891.294, 2.194, 1])\n",
    "\n",
    "testourGPC_EN_int = testourGPC_EN.astype(int)\n"
   ]
  },
  {
   "cell_type": "code",
   "execution_count": 152,
   "metadata": {},
   "outputs": [
    {
     "data": {
      "text/plain": [
       "((3, 7), (7, 2))"
      ]
     },
     "execution_count": 152,
     "metadata": {},
     "output_type": "execute_result"
    }
   ],
   "source": [
    "points_rd_array.T.shape, image_points.shape "
   ]
  },
  {
   "cell_type": "code",
   "execution_count": 168,
   "metadata": {},
   "outputs": [
    {
     "name": "stdout",
     "output_type": "stream",
     "text": [
      "(7, 4)\n",
      "(7, 3)\n"
     ]
    }
   ],
   "source": [
    "#test\n",
    "points_and_one = np.hstack((points_rd_array, np.ones((points_rd_array.shape[0], 1))))\n",
    "print(points_and_one.shape)\n",
    "estimated_pixel = (P_easting_northing @ points_and_one.T).T\n",
    "\n",
    "print(estimated_pixel.shape)"
   ]
  },
  {
   "cell_type": "code",
   "execution_count": 170,
   "metadata": {},
   "outputs": [],
   "source": [
    "image_points.shape, estimated_pixel.shape\n",
    "\n",
    "residual = image_points - estimated_pixel[:, :1]"
   ]
  },
  {
   "cell_type": "code",
   "execution_count": 242,
   "metadata": {},
   "outputs": [
    {
     "data": {
      "image/png": "[encoded data removed]",
      "text/plain": [
       "<Figure size 800x600 with 1 Axes>"
      ]
     },
     "metadata": {},
     "output_type": "display_data"
    }
   ],
   "source": [
    "# Define padding for the display area\n",
    "padding = 40  # Adjust this value as needed for more or less padding\n",
    "\n",
    "# Extract easting and northing components for GCPs\n",
    "easting = points_rd_array[:, 0]\n",
    "northing = points_rd_array[:, 1]\n",
    "\n",
    "# Extract residual errors for easting and northing\n",
    "easting_errors = residual[:, 0]\n",
    "northing_errors = residual[:, 1]\n",
    "\n",
    "\n",
    "# GCP labels in specified order\n",
    "gcp_labels = [\"GCP4\", \"GCP5\", \"GCP6\", \"GCP7\", \"GCP8\", \"GCP9\", \"GCP10\"]\n",
    "\n",
    "# Calculate axis limits with padding\n",
    "min_easting, max_easting = np.min(easting) - 20, np.max(easting) + 20\n",
    "min_northing, max_northing = np.min(northing)-50 , np.max(northing) + 90\n",
    "# Define offset for the labels\n",
    "x_offset = 6  # Move right by 5 units\n",
    "y_offset = 6  # Move up by 5 units\n",
    "\n",
    "\n",
    "# Coordinates for the Argus Tower\n",
    "argus_easting, argus_northing = 72500.827, 452071.438\n",
    "\n",
    "# Create a quiver plot\n",
    "plt.figure(figsize=(8, 6))\n",
    "plt.quiver(easting, northing, easting_errors, northing_errors, angles='xy', scale_units='xy', scale=15, color='blue')\n",
    "plt.scatter(easting, northing, color='red', label='GCPs')  # Mark GCP locations\n",
    "\n",
    "\n",
    "\n",
    "# Plot the Argus Tower point\n",
    "plt.scatter(argus_easting, argus_northing, color='green', label='Argus Tower', s=100)  # Larger marker for emphasis\n",
    "plt.text(argus_easting + x_offset, argus_northing + y_offset, \"Argus Tower\", fontsize=9, ha='right', va='bottom', color='green')\n",
    "\n",
    "# Set axis limits with padding\n",
    "plt.xlim(min_easting, max_easting)\n",
    "plt.ylim(min_northing, max_northing)\n",
    "\n",
    "# Flip the y-axis\n",
    "plt.gca().invert_yaxis()\n",
    "plt.gca().invert_xaxis()\n",
    "\n",
    "# Add labels for each GCP with offset\n",
    "for i, label in enumerate(gcp_labels):\n",
    "    plt.text(easting[i] + x_offset, northing[i] + y_offset, label, fontsize=10, ha='right', va='bottom')\n",
    "\n",
    "# Add labels and grid\n",
    "plt.xlabel('Easting direction')\n",
    "plt.ylabel('Northing y direction')\n",
    "plt.title('GCP Residuals Real Coordinates Not-true error scale')\n",
    "plt.legend()\n",
    "plt.grid(True)\n",
    "\n",
    "# Display the plot\n",
    "plt.show()\n",
    "# # Create a quiver plot\n",
    "# plt.figure(figsize=(8, 6))\n",
    "# plt.quiver(easting, northing, easting_errors, northing_errors, angles='xy', scale_units='xy', scale=20, color='blue')\n",
    "# plt.scatter(easting, northing, color='red', label='GCPs')  # Mark GCP locations\n",
    "\n",
    "# # Set axis limits with padding\n",
    "# plt.xlim(min_easting, max_easting)\n",
    "# plt.ylim(min_northing, max_northing)\n",
    "\n",
    "# # Flip the y-axis\n",
    "# plt.gca().invert_yaxis()\n",
    "# plt.gca().invert_xaxis()\n",
    "\n",
    "# # Add labels for each GCP\n",
    "# for i, label in enumerate(gcp_labels):\n",
    "#     plt.text(easting[i], northing[i], label, fontsize=9, ha='right', va='bottom')\n",
    "\n",
    "# # Add labels and grid\n",
    "# plt.xlabel('Easting')\n",
    "# plt.ylabel('Northing')\n",
    "# plt.title('GCP Residuals')\n",
    "# plt.legend()\n",
    "# plt.grid(True)\n",
    "\n",
    "# # Display the plot\n",
    "# plt.show()\n",
    "\n"
   ]
  },
  {
   "cell_type": "code",
   "execution_count": 147,
   "metadata": {},
   "outputs": [],
   "source": [
    "img = Image.open('c9.jpg')\n",
    "\n",
    "# Coordinates of the top-left corner of the 10x10 block around the pixel (you need to find this manually)\n",
    "pix_x, pix_y = testourGPC_EN_int[0], testourGPC_EN_int[1] # Replace x, y with actual coordinates\n",
    "# 1.95662359e+03 1.693  #1.04325614e+03 1.046\n",
    "# Define the color red in RGB\n",
    "red = (255, 0, 0)\n",
    "\n",
    "# Modify a 10x10 area around the pixel\n",
    "for i in range(pix_x, pix_x + 10):\n",
    "    for j in range(pix_y, pix_y + 10):\n",
    "        img.putpixel((i, j), red)\n",
    "# Save the modified image\n",
    "img.show()\n",
    "# plt.imshow(img)"
   ]
  },
  {
   "cell_type": "code",
   "execution_count": 32,
   "metadata": {},
   "outputs": [
    {
     "name": "stdout",
     "output_type": "stream",
     "text": [
      "zsh:1: no matches found: laspy[laszip]\n"
     ]
    }
   ],
   "source": [
    "# can also be installed using pip here\n",
    "!python -m pip install laspy[laszip] numpy py4dgeo matplotlib scipy pyproj"
   ]
  },
  {
   "cell_type": "code",
   "execution_count": 137,
   "metadata": {},
   "outputs": [],
   "source": [
    "import laspy\n",
    "import numpy as np\n",
    "import matplotlib.pyplot as plt\n",
    "from scipy.interpolate import griddata\n",
    "from mpl_toolkits.mplot3d import Axes3D"
   ]
  },
  {
   "cell_type": "code",
   "execution_count": 138,
   "metadata": {},
   "outputs": [],
   "source": [
    "# read a point cloud\n",
    "laz_file = 'aoi5030.las'\n",
    "with laspy.open(laz_file) as f_laz:\n",
    "        laz = f_laz.read()\n",
    "        xyz = laz.xyz # read the xyz values from the point cloud\n",
    "        # there is way more to get here like classification, rgb, info \n",
    "        rgb = np.vstack((laz.red, laz.green, laz.blue)).T\n",
    "\n",
    "        # CRS \n",
    "        crs = laz.header.parse_crs()"
   ]
  },
  {
   "cell_type": "code",
   "execution_count": 139,
   "metadata": {},
   "outputs": [
    {
     "data": {
      "text/plain": [
       "(672392, 3)"
      ]
     },
     "execution_count": 139,
     "metadata": {},
     "output_type": "execute_result"
    }
   ],
   "source": [
    "xyz.shape"
   ]
  },
  {
   "cell_type": "code",
   "execution_count": 140,
   "metadata": {},
   "outputs": [
    {
     "name": "stdout",
     "output_type": "stream",
     "text": [
      "(4,)\n"
     ]
    }
   ],
   "source": [
    "xyz.shape\n",
    "\n",
    "\n",
    "lidar_points = np.hstack((xyz, np.ones((xyz.shape[0], 1))))\n",
    "print(lidar_points[0,:].shape)\n",
    "    # # Project points using the projection matrix P\n",
    "projected_points = P_easting_northing @ lidar_points.T  # Shape will be 3xN\n",
    "\n",
    "\n",
    "\n",
    "\n",
    "x_prime = projected_points[0] / projected_points[2]\n",
    "y_prime = projected_points[1] / projected_points[2]\n",
    "    \n",
    "    # Stack the results to create an Nx2 array of image coordinates\n",
    "image_coordinates = np.vstack((x_prime, y_prime)).T\n",
    "    \n",
    "\n"
   ]
  },
  {
   "cell_type": "code",
   "execution_count": 141,
   "metadata": {},
   "outputs": [
    {
     "data": {
      "text/plain": [
       "(array([[1747.95509352,  684.95549818],\n",
       "        [2268.60924935,  632.48836285],\n",
       "        [1847.02388708,  799.35603826],\n",
       "        ...,\n",
       "        [ 795.83683171, 1070.20168179],\n",
       "        [2654.74740827,  779.11251596],\n",
       "        [1895.28246717,  647.36322538]]),\n",
       " array([[7.24584450e+04, 4.51857745e+05, 1.57000000e+00, 1.00000000e+00],\n",
       "        [7.24390170e+04, 4.51846240e+05, 1.86700000e+00, 1.00000000e+00],\n",
       "        [7.24532530e+04, 4.51893149e+05, 1.59200000e+00, 1.00000000e+00],\n",
       "        ...,\n",
       "        [7.24979720e+04, 4.51932565e+05, 1.68600000e+00, 1.00000000e+00],\n",
       "        [7.24221880e+04, 4.51894638e+05, 2.01700000e+00, 1.00000000e+00],\n",
       "        [7.24534500e+04, 4.51846584e+05, 1.68300000e+00, 1.00000000e+00]]))"
      ]
     },
     "execution_count": 141,
     "metadata": {},
     "output_type": "execute_result"
    }
   ],
   "source": [
    "image_coordinates, lidar_points"
   ]
  },
  {
   "cell_type": "code",
   "execution_count": 142,
   "metadata": {},
   "outputs": [
    {
     "name": "stdout",
     "output_type": "stream",
     "text": [
      "Processing row 1/78...\n",
      "Processing row 2/78...\n",
      "Processing row 3/78...\n",
      "Processing row 4/78...\n",
      "Processing row 5/78...\n",
      "Processing row 6/78...\n",
      "Processing row 7/78...\n",
      "Processing row 8/78...\n",
      "Processing row 9/78...\n",
      "Processing row 10/78...\n",
      "Processing row 11/78...\n",
      "Processing row 12/78...\n",
      "Processing row 13/78...\n",
      "Processing row 14/78...\n",
      "Processing row 15/78...\n",
      "Processing row 16/78...\n",
      "Processing row 17/78...\n",
      "Processing row 18/78...\n",
      "Processing row 19/78...\n",
      "Processing row 20/78...\n",
      "Processing row 21/78...\n",
      "Processing row 22/78...\n",
      "Processing row 23/78...\n",
      "Processing row 24/78...\n",
      "Processing row 25/78...\n",
      "Processing row 26/78...\n",
      "Processing row 27/78...\n",
      "Processing row 28/78...\n",
      "Processing row 29/78...\n",
      "Processing row 30/78...\n",
      "Processing row 31/78...\n",
      "Processing row 32/78...\n",
      "Processing row 33/78...\n",
      "Processing row 34/78...\n",
      "Processing row 35/78...\n",
      "Processing row 36/78...\n",
      "Processing row 37/78...\n",
      "Processing row 38/78...\n",
      "Processing row 39/78...\n",
      "Processing row 40/78...\n",
      "Processing row 41/78...\n",
      "Processing row 42/78...\n",
      "Processing row 43/78...\n",
      "Processing row 44/78...\n",
      "Processing row 45/78...\n",
      "Processing row 46/78...\n",
      "Processing row 47/78...\n",
      "Processing row 48/78...\n",
      "Processing row 49/78...\n",
      "Processing row 50/78...\n",
      "Processing row 51/78...\n",
      "Processing row 52/78...\n",
      "Processing row 53/78...\n",
      "Processing row 54/78...\n",
      "Processing row 55/78...\n",
      "Processing row 56/78...\n",
      "Processing row 57/78...\n",
      "Processing row 58/78...\n",
      "Processing row 59/78...\n",
      "Processing row 60/78...\n",
      "Processing row 61/78...\n",
      "Processing row 62/78...\n",
      "Processing row 63/78...\n",
      "Processing row 64/78...\n",
      "Processing row 65/78...\n",
      "Processing row 66/78...\n",
      "Processing row 67/78...\n",
      "Processing row 68/78...\n",
      "Processing row 69/78...\n",
      "Processing row 70/78...\n",
      "Processing row 71/78...\n",
      "Processing row 72/78...\n",
      "Processing row 73/78...\n",
      "Processing row 74/78...\n",
      "Processing row 75/78...\n",
      "Processing row 76/78...\n",
      "Processing row 77/78...\n",
      "Processing row 78/78...\n"
     ]
    }
   ],
   "source": [
    "\n",
    "# Define the grid boundaries with 10-pixel steps\n",
    "min_E, max_E = np.min(image_coordinates[:, 0]), np.max(image_coordinates[:, 0])\n",
    "min_N, max_N = np.min(image_coordinates[:, 1]), np.max(image_coordinates[:, 1])\n",
    "resolution = 10\n",
    "easting_bins = np.arange(min_E, max_E + resolution, resolution)\n",
    "northing_bins = np.arange(min_N, max_N + resolution, resolution)\n",
    "\n",
    "#make grid meshgrid\n",
    "\n",
    "easting_grid, northing_grid = np.meshgrid(easting_bins, northing_bins)\n",
    "\n",
    "# Initialize a dictionary to store the points in each grid box\n",
    "grid = {}\n",
    "\n",
    "# Iterate over each grid point\n",
    "for i in range(easting_grid.shape[0]):\n",
    "        # Display progress at the start of each new row\n",
    "    print(f\"Processing row {i + 1}/{easting_grid.shape[0]}...\")\n",
    "    for j in range(northing_grid.shape[1]):\n",
    "        # Define the center and bounds of the current grid box\n",
    "        east_center = easting_grid[i, j]\n",
    "        north_center = northing_grid[i, j]\n",
    "        \n",
    "        east_min_region = east_center - resolution / 2\n",
    "        east_max_region = east_center + resolution / 2\n",
    "        north_min_region = north_center - resolution / 2\n",
    "        north_max_region = north_center + resolution / 2\n",
    "\n",
    "        # Find indices of image coordinates that fall within the current grid box\n",
    "        image_coordinates_indices = np.where(\n",
    "            (image_coordinates[:, 0] >= east_min_region) & (image_coordinates[:, 0] < east_max_region) &\n",
    "            (image_coordinates[:, 1] >= north_min_region) & (image_coordinates[:, 1] < north_max_region)\n",
    "        )[0]\n",
    "       \n",
    "        # Get the actual image and corresponding real coordinates for these indices\n",
    "        grid_key = (i, j)  # Use (i, j) as a unique key for each grid cell\n",
    "        grid[grid_key] = {\n",
    "            'image_coordinates': image_coordinates[image_coordinates_indices],\n",
    "            'real_coordinates': lidar_points[image_coordinates_indices]\n",
    "        }\n",
    "\n",
    "\n"
   ]
  },
  {
   "cell_type": "code",
   "execution_count": 143,
   "metadata": {},
   "outputs": [
    {
     "name": "stdout",
     "output_type": "stream",
     "text": [
      "Grid processing complete.\n"
     ]
    }
   ],
   "source": [
    "#Optimised code for grid processing\n",
    "\n",
    "# Define the grid boundaries with 10-pixel steps\n",
    "min_E, max_E = np.min(image_coordinates[:, 0]), np.max(image_coordinates[:, 0])\n",
    "min_N, max_N = np.min(image_coordinates[:, 1]), np.max(image_coordinates[:, 1])\n",
    "resolution = 5\n",
    "easting_bins = np.arange(min_E, max_E + resolution, resolution)\n",
    "northing_bins = np.arange(min_N, max_N + resolution, resolution)\n",
    "\n",
    "# Digitize image coordinates to find which grid cell each point belongs to\n",
    "easting_indices = np.digitize(image_coordinates[:, 0], easting_bins) - 1\n",
    "northing_indices = np.digitize(image_coordinates[:, 1], northing_bins) - 1\n",
    "\n",
    "# Initialize a dictionary to store the points in each grid box\n",
    "grid = {}\n",
    "\n",
    "# Process each point and assign it to the corresponding grid cell\n",
    "for idx in range(len(image_coordinates)):\n",
    "    i, j = northing_indices[idx], easting_indices[idx]  # Grid cell indices\n",
    "    \n",
    "    # Skip if out of bounds\n",
    "    if i < 0 or i >= len(northing_bins) - 1 or j < 0 or j >= len(easting_bins) - 1:\n",
    "        continue\n",
    "    \n",
    "    # Create the grid cell key\n",
    "    grid_key = (i, j)\n",
    "    \n",
    "    # Initialize the cell if it doesn't exist\n",
    "    if grid_key not in grid:\n",
    "        grid[grid_key] = {'image_coordinates': [], 'real_coordinates': []}\n",
    "    \n",
    "    # Append the image and real coordinates to the appropriate cell\n",
    "    grid[grid_key]['image_coordinates'].append(image_coordinates[idx])\n",
    "    grid[grid_key]['real_coordinates'].append(lidar_points[idx])\n",
    "\n",
    "# Convert lists to arrays for each grid cell\n",
    "for key in grid:\n",
    "    grid[key]['image_coordinates'] = np.array(grid[key]['image_coordinates'])\n",
    "    grid[key]['real_coordinates'] = np.array(grid[key]['real_coordinates'])\n",
    "\n",
    "print(\"Grid processing complete.\")\n"
   ]
  },
  {
   "cell_type": "code",
   "execution_count": 144,
   "metadata": {},
   "outputs": [],
   "source": [
    "argus_tower= np.array([72502.827\t,452071.438\t,  14.959, 1])\n",
    "\n",
    "\n",
    "# Define your distance function (assuming Euclidean distance)\n",
    "def distance(coord1, coord2):\n",
    "    return np.linalg.norm(coord1 - coord2)\n",
    "\n",
    "# Dictionary to store the minimum distance for each grid cell\n",
    "min_distances = {}\n",
    "\n",
    "# Iterate through each cell in the grid\n",
    "for key, value in grid.items():\n",
    "    if len(value['real_coordinates']) > 0:  # Only consider non-empty cells\n",
    "        # Calculate distances to Argus Tower for each real coordinate in the cell\n",
    "        distances = [distance(real_coord, argus_tower) for real_coord in value['real_coordinates']]\n",
    "        \n",
    "        # Find the minimum distance for this grid cell\n",
    "        min_distance = min(distances)\n",
    "        \n",
    "        # Store the minimum distance in the dictionary\n",
    "        min_distances[key] = min_distance"
   ]
  },
  {
   "cell_type": "code",
   "execution_count": 145,
   "metadata": {},
   "outputs": [
    {
     "data": {
      "image/png": "[encoded data removed]",
      "text/plain": [
       "<Figure size 800x600 with 2 Axes>"
      ]
     },
     "metadata": {},
     "output_type": "display_data"
    }
   ],
   "source": [
    "#Display the distance map\n",
    "# Define the grid dimensions\n",
    "num_rows = len(northing_bins) - 1  # Number of rows in the grid\n",
    "num_cols = len(easting_bins) - 1   # Number of columns in the grid\n",
    "\n",
    "# Initialize a 2D array to store the minimum distances for each grid cell\n",
    "# distance_grid = np.full((num_rows, num_cols), np.nan)  # Use NaN to indicate empty cells\n",
    "distance_grid = np.full(easting_grid.shape, np.nan) \n",
    "# Fill the distance grid with minimum distances from the min_distances dictionary\n",
    "for (i, j), min_distance in min_distances.items():\n",
    "    distance_grid[i, j] = min_distance  # Assign the minimum distance to the appropriate cell\n",
    "\n",
    "# Plotting the heatmap\n",
    "plt.figure(figsize=(8, 6))\n",
    "plt.imshow(distance_grid, cmap='viridis', origin='upper')  # 'viridis' is a perceptually uniform colormap\n",
    "plt.colorbar(label='Distance [m]')\n",
    "plt.title(\"Distance [m]\")\n",
    "plt.xlabel(\"Easting Grid Cells\")\n",
    "plt.ylabel(\"Northing Grid Cells\")\n",
    "plt.savefig('Distancemap_new.png')\n",
    "# Display the image\n",
    "plt.show()\n"
   ]
  },
  {
   "cell_type": "code",
   "execution_count": 126,
   "metadata": {},
   "outputs": [
    {
     "name": "stdout",
     "output_type": "stream",
     "text": [
      "Grid dimensions (num_rows, num_cols): 77 331\n",
      "Max i in min_distances: 76\n",
      "Max j in min_distances: 331\n"
     ]
    }
   ],
   "source": [
    "# Print grid dimensions\n",
    "print(\"Grid dimensions (num_rows, num_cols):\", num_rows, num_cols)\n",
    "\n",
    "# Check the maximum values of i and j in min_distances\n",
    "max_i = max(key[0] for key in min_distances.keys())\n",
    "max_j = max(key[1] for key in min_distances.keys())\n",
    "\n",
    "print(\"Max i in min_distances:\", max_i)\n",
    "print(\"Max j in min_distances:\", max_j)\n"
   ]
  },
  {
   "cell_type": "code",
   "execution_count": null,
   "metadata": {},
   "outputs": [],
   "source": []
  }
 ],
 "metadata": {
  "kernelspec": {
   "display_name": "Python 3",
   "language": "python",
   "name": "python3"
  },
  "language_info": {
   "codemirror_mode": {
    "name": "ipython",
    "version": 3
   },
   "file_extension": ".py",
   "mimetype": "text/x-python",
   "name": "python",
   "nbconvert_exporter": "python",
   "pygments_lexer": "ipython3",
   "version": "3.9.13"
  }
 },
 "nbformat": 4,
 "nbformat_minor": 2
}
