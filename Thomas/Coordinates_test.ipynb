{
 "cells": [
  {
   "cell_type": "code",
   "execution_count": 2,
   "metadata": {},
   "outputs": [],
   "source": [
    "from PIL import Image\n",
    "\n",
    "img = Image.open('c9.jpg')\n",
    "\n",
    "# Coordinates of the top-left corner of the 10x10 block around the pixel (you need to find this manually)\n",
    "pix_x, pix_y = 1224, 1024  # Replace x, y with actual coordinates\n",
    "\n",
    "# Define the color red in RGB so the pixel can be easily identified \n",
    "red = (255, 0, 0)\n",
    "\n",
    "# Modify a 5x5 area around the pixel\n",
    "for i in range(pix_x, pix_x + 5):\n",
    "    for j in range(pix_y, pix_y + 5):\n",
    "        img.putpixel((i, j), red)\n",
    "\n",
    "img.show()\n",
    "\n"
   ]
  },
  {
   "cell_type": "code",
   "execution_count": 7,
   "metadata": {},
   "outputs": [
    {
     "name": "stderr",
     "output_type": "stream",
     "text": [
      "c:\\Users\\maikd\\AppData\\Local\\Programs\\Python\\Python311\\Lib\\site-packages\\pyproj\\crs\\crs.py:143: FutureWarning: '+init=<authority>:<code>' syntax is deprecated. '<authority>:<code>' is the preferred initialization method. When making the change, be mindful of axis order changes: https://pyproj4.github.io/pyproj/stable/gotchas.html#axis-order-changes-in-proj-6\n",
      "  in_crs_string = _prepare_from_proj_string(in_crs_string)\n",
      "c:\\Users\\maikd\\AppData\\Local\\Programs\\Python\\Python311\\Lib\\site-packages\\pyproj\\crs\\crs.py:143: FutureWarning: '+init=<authority>:<code>' syntax is deprecated. '<authority>:<code>' is the preferred initialization method. When making the change, be mindful of axis order changes: https://pyproj4.github.io/pyproj/stable/gotchas.html#axis-order-changes-in-proj-6\n",
      "  in_crs_string = _prepare_from_proj_string(in_crs_string)\n",
      "C:\\Users\\maikd\\AppData\\Local\\Temp\\ipykernel_3252\\475230796.py:26: FutureWarning: This function is deprecated. See: https://pyproj4.github.io/pyproj/stable/gotchas.html#upgrading-to-pyproj-2-from-pyproj-1\n",
      "  points_wgs84 = [(point[0], *pyproj.transform(proj_rd_new, proj_wgs84, point[1], point[2])) for point in points_rd]\n"
     ]
    },
    {
     "data": {
      "text/plain": [
       "[('gcp0901', 4.185440605113732, 52.046443983534395),\n",
       " ('gcp0902', 4.183589193882612, 52.04455372046808),\n",
       " ('gcp0903', 4.1831900966069675, 52.04562381088798),\n",
       " ('gcp0904', 4.184565960094108, 52.047953646575024),\n",
       " ('gcp0905', 4.1847511173419285, 52.049483081906665),\n",
       " ('gcp0906', 4.184355680384403, 52.04943092589389),\n",
       " ('gcp0907', 4.183696463504096, 52.048998969112695),\n",
       " ('gcp0908', 4.184061908132926, 52.04958865626547),\n",
       " ('gcp0909', 4.184718858459477, 52.0500158865175),\n",
       " ('gcp0910', 4.184119021817647, 52.05008049429814),\n",
       " ('cam9', 4.184479871385774, 52.05080646824063)]"
      ]
     },
     "execution_count": 7,
     "metadata": {},
     "output_type": "execute_result"
    }
   ],
   "source": [
    "import pyproj\n",
    "\n",
    "# Define the RD New (Amersfoort) CRS\n",
    "proj_rd_new = pyproj.Proj(init=\"epsg:28992\")\n",
    "\n",
    "# Define the WGS84 CRS (used for lat/lon)\n",
    "proj_wgs84 = pyproj.Proj(init=\"epsg:4326\")\n",
    "\n",
    "# List of points with (Easting, Northing)\n",
    "points_rd = [\n",
    "    (\"gcp0901\", 72560.689, 451585.03),\n",
    "    (\"gcp0902\", 72430.207, 451376.846),\n",
    "    (\"gcp0903\", 72404.804, 451496.345),\n",
    "    (\"gcp0904\", 72503.475, 451753.97),\n",
    "    (\"gcp0905\", 72518.993, 451923.906),\n",
    "    (\"gcp0906\", 72491.774, 451918.553),\n",
    "    (\"gcp0907\", 72445.762, 451871.248),\n",
    "    (\"gcp0908\", 72471.915, 451936.434),\n",
    "    (\"gcp0909\", 72517.762, 451983.216),\n",
    "    (\"gcp0910\", 72476.739, 451991.085),\n",
    "    (\"cam9\",\t72502.827, 452071.438)\n",
    "\n",
    "]\n",
    "\n",
    "# Convert RD New to WGS84 (Lat, Lon)\n",
    "points_wgs84 = [(point[0], *pyproj.transform(proj_rd_new, proj_wgs84, point[1], point[2])) for point in points_rd]\n",
    "\n",
    "points_wgs84\n"
   ]
  },
  {
   "cell_type": "code",
   "execution_count": 16,
   "metadata": {},
   "outputs": [
    {
     "name": "stdout",
     "output_type": "stream",
     "text": [
      "Radians 0.09635650916090893\n",
      "Degrees 5.520821303533735\n"
     ]
    }
   ],
   "source": [
    "from math import radians, sin, cos, sqrt, atan2\n",
    "import numpy as np\n",
    "# Define the Haversine formula to calculate distance between two points on the Earth\n",
    "def haversine(lat1, lon1, lat2, lon2):\n",
    "    # Radius of Earth in meters\n",
    "    R = 6371000  \n",
    "    \n",
    "    # Convert latitudes and longitudes from degrees to radians\n",
    "    lat1, lon1, lat2, lon2 = map(radians, [lat1, lon1, lat2, lon2])\n",
    "    \n",
    "    # Differences in coordinates\n",
    "    dlat = lat2 - lat1\n",
    "    dlon = lon2 - lon1\n",
    "    \n",
    "    # Haversine formula\n",
    "    a = sin(dlat / 2)**2 + cos(lat1) * cos(lat2) * sin(dlon / 2)**2\n",
    "    c = 2 * atan2(sqrt(a), sqrt(1 - a))\n",
    "    \n",
    "    # Distance in meters\n",
    "    distance = R * c\n",
    "    return distance\n",
    "\n",
    "# Coordinates of cam9 and gcp0906\n",
    "lat_cam9, lon_cam9 = 52.05080646824063, 4.184479871385774\n",
    "lat_gcp0906, lon_gcp0906 = 52.04943092589389, 4.184355680384403\n",
    "\n",
    "# Calculate the distance\n",
    "distance_meters = haversine(lat_cam9, lon_cam9, lat_gcp0906, lon_gcp0906)\n",
    "distance_meters\n",
    "\n",
    "correction = 2\n",
    "distance = distance_meters + correction\n",
    "height = 15\n",
    "\n",
    "tilt = np.tanh(height/distance)\n",
    "tilt_deg = np.degrees(tilt)\n",
    "print(\"Tilt in Radians\",tilt)\n",
    "print(\"Tilt in Degrees\",tilt_deg)\n",
    "\n",
    "\n",
    "\n",
    "\n"
   ]
  },
  {
   "cell_type": "code",
   "execution_count": 18,
   "metadata": {},
   "outputs": [
    {
     "name": "stdout",
     "output_type": "stream",
     "text": [
      "Azimuth in Radians 3.0861259353600228\n",
      "Azimuth in Degrees 176.8219911419928\n",
      "The camera focal lenght is 12.5mm\n"
     ]
    }
   ],
   "source": [
    "from math import degrees, atan2\n",
    "import numpy as np\n",
    "# Function to calculate azimuth between two points\n",
    "def calculate_azimuth(lat1, lon1, lat2, lon2):\n",
    "    dlon = radians(lon2 - lon1)\n",
    "    lat1, lat2 = radians(lat1), radians(lat2)\n",
    "    \n",
    "    x = sin(dlon) * cos(lat2)\n",
    "    y = cos(lat1) * sin(lat2) - sin(lat1) * cos(lat2) * cos(dlon)\n",
    "    \n",
    "    initial_bearing = atan2(x, y)\n",
    "    initial_bearing = degrees(initial_bearing)\n",
    "    \n",
    "    # Normalize the bearing to 0-360 degrees\n",
    "    azimuth = (initial_bearing + 360) % 360\n",
    "    return azimuth\n",
    "\n",
    "# Calculate the azimuth between cam9 and gcp0906\n",
    "azimuth_angle = calculate_azimuth(lat_cam9, lon_cam9, lat_gcp0906, lon_gcp0906)\n",
    "azimuth_angle\n",
    "\n",
    "# Calculate the counterclockwise angle by subtracting the azimuth from 360\n",
    "ccw_angle = (360 - azimuth_angle) % 360\n",
    "ccw_angle\n",
    "print(\"Azimuth in Radians\", np.radians(ccw_angle))\n",
    "print(\"Azimuth in Degrees\",ccw_angle)\n",
    "print(\"The camera focal lenght is 12.5mm\")"
   ]
  },
  {
   "cell_type": "code",
   "execution_count": 23,
   "metadata": {},
   "outputs": [
    {
     "name": "stdout",
     "output_type": "stream",
     "text": [
      "[[-0.9938142   0.05545555 -0.09621863]\n",
      " [ 0.05537022 -0.99846116 -0.00534408]\n",
      " [-0.09636693 -0.          0.99534588]]\n"
     ]
    }
   ],
   "source": [
    "# Define the angles in radians (replace with actual values)\n",
    "# phi = -5.53  #in degrees\n",
    "# k = 176.821  #in degrees\n",
    "# w = 0 \n",
    "\n",
    "phi = np.radians(-5.53)  #in degrees\n",
    "k = np.radians(176.821)  #in degrees\n",
    "w = np.radians(0)\n",
    "\n",
    "\n",
    "# Define the matrix M using numpy arrays\n",
    "M = np.array([\n",
    "    [np.cos(phi) * np.cos(k), np.cos(w) * np.sin(k) + np.sin(w) * np.sin(phi) * np.cos(k), np.sin(w) * np.sin(k) - np.cos(w) * np.sin(phi) * np.cos(k)],\n",
    "    [-np.cos(k) * np.sin(k), np.cos(w) * np.cos(k) - np.sin(w) * np.sin(phi) * np.sin(k), np.sin(w) * np.cos(k) + np.cos(w) * np.sin(phi) * np.sin(k)],\n",
    "    [np.sin(phi), -np.sin(w) * np.cos(phi), np.cos(w) * np.cos(phi)]\n",
    "])\n",
    "\n",
    "# Output the matrix\n",
    "print(M)"
   ]
  },
  {
   "cell_type": "code",
   "execution_count": null,
   "metadata": {},
   "outputs": [],
   "source": []
  }
 ],
 "metadata": {
  "kernelspec": {
   "display_name": "Python 3",
   "language": "python",
   "name": "python3"
  },
  "language_info": {
   "codemirror_mode": {
    "name": "ipython",
    "version": 3
   },
   "file_extension": ".py",
   "mimetype": "text/x-python",
   "name": "python",
   "nbconvert_exporter": "python",
   "pygments_lexer": "ipython3",
   "version": "3.11.2"
  }
 },
 "nbformat": 4,
 "nbformat_minor": 2
}
