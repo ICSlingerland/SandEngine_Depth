{
 "cells": [
  {
   "cell_type": "code",
   "execution_count": 7,
   "metadata": {},
   "outputs": [],
   "source": [
    "from PIL import Image\n",
    "\n",
    "img = Image.open('c9.jpg')\n",
    "\n",
    "# Coordinates of the top-left corner of the 10x10 block around the pixel (you need to find this manually)\n",
    "pix_x, pix_y = 1150, 1000  # Replace x, y with actual coordinates\n",
    "\n",
    "# Define the color red in RGB\n",
    "red = (255, 0, 0)\n",
    "\n",
    "# Modify a 10x10 area around the pixel\n",
    "for i in range(pix_x, pix_x + 10):\n",
    "    for j in range(pix_y, pix_y + 10):\n",
    "        img.putpixel((i, j), red)\n",
    "# Save the modified image\n",
    "img.show()\n"
   ]
  },
  {
   "cell_type": "code",
   "execution_count": null,
   "metadata": {},
   "outputs": [],
   "source": []
  }
 ],
 "metadata": {
  "kernelspec": {
   "display_name": "Python 3",
   "language": "python",
   "name": "python3"
  },
  "language_info": {
   "codemirror_mode": {
    "name": "ipython",
    "version": 3
   },
   "file_extension": ".py",
   "mimetype": "text/x-python",
   "name": "python",
   "nbconvert_exporter": "python",
   "pygments_lexer": "ipython3",
   "version": "3.11.2"
  }
 },
 "nbformat": 4,
 "nbformat_minor": 2
}
