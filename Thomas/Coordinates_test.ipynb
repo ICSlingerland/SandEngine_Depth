{
 "cells": [
  {
   "cell_type": "code",
   "execution_count": null,
   "metadata": {},
   "outputs": [],
   "source": [
    "from PIL import Image\n",
    "\n",
    "# Open the image\n",
    "img = Image.open('house.jpg')\n",
    "\n",
    "# Coordinates of the doorknob (example values, you'll need to find these)\n",
    "doorknob_coords = (x, y)\n",
    "\n",
    "# Modify the pixel at the doorknob coordinates to red\n",
    "img.putpixel(doorknob_coords, (255, 0, 0))\n",
    "\n",
    "# Save the modified image\n",
    "img.save('house_with_red_doorknob.jpg')\n"
   ]
  }
 ],
 "metadata": {
  "kernelspec": {
   "display_name": "Python 3",
   "language": "python",
   "name": "python3"
  },
  "language_info": {
   "name": "python",
   "version": "3.11.2"
  }
 },
 "nbformat": 4,
 "nbformat_minor": 2
}
