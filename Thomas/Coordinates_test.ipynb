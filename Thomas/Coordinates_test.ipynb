{
 "cells": [
  {
   "cell_type": "code",
   "execution_count": 38,
   "metadata": {},
   "outputs": [],
   "source": [
    "from PIL import Image\n",
    "\n",
    "img = Image.open('c9.jpg')\n",
    "\n",
    "# Coordinates of the top-left corner of the 10x10 block around the pixel (you need to find this manually)\n",
    "pix_x, pix_y = 2058, 1644  # Replace x, y with actual coordinates\n",
    "\n",
    "# Define the color red in RGB so the pixel can be easily identified \n",
    "red = (255, 0, 0)\n",
    "\n",
    "# Modify a 5x5 area around the pixel\n",
    "for i in range(pix_x, pix_x + 1):\n",
    "    for j in range(pix_y, pix_y + 1):\n",
    "        img.putpixel((i, j), red)\n",
    "\n",
    "img.show()\n",
    "\n"
   ]
  },
  {
   "cell_type": "code",
   "execution_count": null,
   "metadata": {},
   "outputs": [],
   "source": []
  },
  {
   "cell_type": "code",
   "execution_count": null,
   "metadata": {},
   "outputs": [],
   "source": []
  }
 ],
 "metadata": {
  "kernelspec": {
   "display_name": "Python 3",
   "language": "python",
   "name": "python3"
  },
  "language_info": {
   "codemirror_mode": {
    "name": "ipython",
    "version": 3
   },
   "file_extension": ".py",
   "mimetype": "text/x-python",
   "name": "python",
   "nbconvert_exporter": "python",
   "pygments_lexer": "ipython3",
   "version": "3.11.2"
  }
 },
 "nbformat": 4,
 "nbformat_minor": 2
}
