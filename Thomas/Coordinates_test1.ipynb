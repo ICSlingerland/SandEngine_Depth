{
 "cells": [
  {
   "cell_type": "markdown",
   "metadata": {},
   "source": [
    "Used for finding the correct pixel coordinates in an image:"
   ]
  },
  {
   "cell_type": "code",
   "execution_count": null,
   "metadata": {},
   "outputs": [],
   "source": [
    "from PIL import Image\n",
    "\n",
    "img = Image.open('c9_new.jpg') #open the image\n",
    "\n",
    "pix_x, pix_y = 1450, 920  #set the image coordinates\n",
    "\n",
    "red = (255, 0, 0) #red pixel so it can be easily identified \n",
    "\n",
    "#Modify a x by x area around the pixel\n",
    "for i in range(pix_x, pix_x + 1):\n",
    "    for j in range(pix_y, pix_y + 1):\n",
    "        img.putpixel((i, j), red)\n",
    "\n",
    "img.show()"
   ]
  },
  {
   "cell_type": "markdown",
   "metadata": {},
   "source": [
    "Used to transform Northing and Easting to Lat-Long:"
   ]
  },
  {
   "cell_type": "code",
   "execution_count": null,
   "metadata": {},
   "outputs": [
    {
     "name": "stderr",
     "output_type": "stream",
     "text": [
      "c:\\Users\\Thomas\\AppData\\Local\\Programs\\Python\\Python312\\Lib\\site-packages\\pyproj\\crs\\crs.py:141: FutureWarning: '+init=<authority>:<code>' syntax is deprecated. '<authority>:<code>' is the preferred initialization method. When making the change, be mindful of axis order changes: https://pyproj4.github.io/pyproj/stable/gotchas.html#axis-order-changes-in-proj-6\n",
      "  in_crs_string = _prepare_from_proj_string(in_crs_string)\n",
      "c:\\Users\\Thomas\\AppData\\Local\\Programs\\Python\\Python312\\Lib\\site-packages\\pyproj\\crs\\crs.py:141: FutureWarning: '+init=<authority>:<code>' syntax is deprecated. '<authority>:<code>' is the preferred initialization method. When making the change, be mindful of axis order changes: https://pyproj4.github.io/pyproj/stable/gotchas.html#axis-order-changes-in-proj-6\n",
      "  in_crs_string = _prepare_from_proj_string(in_crs_string)\n",
      "C:\\Users\\Thomas\\AppData\\Local\\Temp\\ipykernel_17060\\475230796.py:26: FutureWarning: This function is deprecated. See: https://pyproj4.github.io/pyproj/stable/gotchas.html#upgrading-to-pyproj-2-from-pyproj-1\n",
      "  points_wgs84 = [(point[0], *pyproj.transform(proj_rd_new, proj_wgs84, point[1], point[2])) for point in points_rd]\n"
     ]
    },
    {
     "data": {
      "text/plain": [
       "[('gcp0901', 4.185440605113732, 52.046443983534395),\n",
       " ('gcp0902', 4.183589193882612, 52.04455372046808),\n",
       " ('gcp0903', 4.1831900966069675, 52.04562381088798),\n",
       " ('gcp0904', 4.184565960094108, 52.047953646575024),\n",
       " ('gcp0905', 4.1847511173419285, 52.049483081906665),\n",
       " ('gcp0906', 4.184355680384403, 52.04943092589389),\n",
       " ('gcp0907', 4.183696463504096, 52.048998969112695),\n",
       " ('gcp0908', 4.184061908132926, 52.04958865626547),\n",
       " ('gcp0909', 4.184718858459477, 52.0500158865175),\n",
       " ('gcp0910', 4.184119021817647, 52.05008049429814),\n",
       " ('cam9', 4.184479871385774, 52.05080646824063)]"
      ]
     },
     "execution_count": 10,
     "metadata": {},
     "output_type": "execute_result"
    }
   ],
   "source": [
    "import pyproj\n",
    "\n",
    "#RD New = (Amersfoort) CRS\n",
    "proj_rd_new = pyproj.Proj(init=\"epsg:28992\")\n",
    "\n",
    "#WGS84 CRS (used for lat/lon)\n",
    "proj_wgs84 = pyproj.Proj(init=\"epsg:4326\")\n",
    "\n",
    "#List of points GCP locations EAST_NORTH\n",
    "points_rd = [\n",
    "    (\"gcp0901\", 72560.689, 451585.03),\n",
    "    (\"gcp0902\", 72430.207, 451376.846),\n",
    "    (\"gcp0903\", 72404.804, 451496.345),\n",
    "    (\"gcp0904\", 72503.475, 451753.97),\n",
    "    (\"gcp0905\", 72518.993, 451923.906),\n",
    "    (\"gcp0906\", 72491.774, 451918.553),\n",
    "    (\"gcp0907\", 72445.762, 451871.248),\n",
    "    (\"gcp0908\", 72471.915, 451936.434),\n",
    "    (\"gcp0909\", 72517.762, 451983.216),\n",
    "    (\"gcp0910\", 72476.739, 451991.085),\n",
    "    (\"cam9\",\t72502.827, 452071.438)\n",
    "]\n",
    "\n",
    "#Convert RD New to WGS84 (lat/lon)\n",
    "points_wgs84 = [(point[0], *pyproj.transform(proj_rd_new, proj_wgs84, point[1], point[2])) for point in points_rd]\n",
    "print(points_wgs84)\n"
   ]
  },
  {
   "cell_type": "markdown",
   "metadata": {},
   "source": [
    "Used for finding the distance of a point on the ground to the camera to estimate the tilt of the camera:"
   ]
  },
  {
   "cell_type": "code",
   "execution_count": null,
   "metadata": {},
   "outputs": [],
   "source": [
    "from math import radians, sin, cos, sqrt, atan2\n",
    "import numpy as np\n",
    "# Define the Haversine formula to calculate distance between two points on the Earth\n",
    "def haversine(lat1, lon1, lat2, lon2):\n",
    "    \n",
    "    R = 6371000  #radius of Earth in m\n",
    "\n",
    "    #convert lat and lon from deg to rad\n",
    "    lat1, lon1, lat2, lon2 = map(radians, [lat1, lon1, lat2, lon2])\n",
    "    \n",
    "    #Find the differences in coordinates\n",
    "    dlat = lat2 - lat1\n",
    "    dlon = lon2 - lon1\n",
    "    \n",
    "    #Haversine\n",
    "    a = sin(dlat / 2)**2 + cos(lat1) * cos(lat2) * sin(dlon / 2)**2\n",
    "    c = 2 * atan2(sqrt(a), sqrt(1 - a))\n",
    "    \n",
    "    distance = R * c\n",
    "    return distance #in meters\n",
    "\n",
    "#Coordinates of cam9 and gcp0906\n",
    "lat_cam9, lon_cam9 = 52.05080646824063, 4.184479871385774\n",
    "lat_gcp0906, lon_gcp0906 = 52.04943092589389, 4.184355680384403\n",
    "\n",
    "#Calculate the distance\n",
    "distance_meters = haversine(lat_cam9, lon_cam9, lat_gcp0906, lon_gcp0906)\n",
    "distance_meters\n",
    "\n",
    "correction = 2 #as a point slightly closer was used (gcp 6)\n",
    "distance = distance_meters + correction\n",
    "cam_height = 15\n",
    "\n",
    "tilt = np.tanh(cam_height/distance)\n",
    "tilt_deg = np.degrees(tilt)\n",
    "print(\"Tilt in Radians\",tilt)\n",
    "print(\"Tilt in Degrees\",tilt_deg)\n",
    "\n",
    "\n",
    "\n",
    "\n"
   ]
  },
  {
   "cell_type": "markdown",
   "metadata": {},
   "source": [
    "Used to estimate the azimuth direction of the camera:"
   ]
  },
  {
   "cell_type": "code",
   "execution_count": null,
   "metadata": {},
   "outputs": [],
   "source": [
    "from math import degrees, atan2\n",
    "import numpy as np\n",
    "#Function to calculate azimuth between two points\n",
    "def calculate_azimuth(lat1, lon1, lat2, lon2):\n",
    "    dlon = radians(lon2 - lon1)\n",
    "    lat1, lat2 = radians(lat1), radians(lat2)\n",
    "    \n",
    "    x = sin(dlon) * cos(lat2)\n",
    "    y = cos(lat1) * sin(lat2) - sin(lat1) * cos(lat2) * cos(dlon)\n",
    "    \n",
    "    initial_bearing = atan2(x, y)\n",
    "    initial_bearing = degrees(initial_bearing)\n",
    "    \n",
    "    #Normalize the bearing to 0-360 degrees\n",
    "    azimuth = (initial_bearing + 360) % 360\n",
    "    return azimuth\n",
    "\n",
    "#find the azimuth between cam9 and gcp0906\n",
    "azimuth_angle = calculate_azimuth(lat_cam9, lon_cam9, lat_gcp0906, lon_gcp0906)\n",
    "azimuth_angle\n",
    "\n",
    "#find the counterclockwise angle by subtracting the azimuth from 360\n",
    "ccw_angle = (360 - azimuth_angle) % 360\n",
    "ccw_angle\n",
    "print(\"Azimuth in Radians\", np.radians(ccw_angle))\n",
    "print(\"Azimuth in Degrees\",ccw_angle)\n",
    "print(\"The camera focal lenght is 12.5mm\")"
   ]
  },
  {
   "cell_type": "markdown",
   "metadata": {},
   "source": [
    "The creation of the M matrix:"
   ]
  },
  {
   "cell_type": "code",
   "execution_count": null,
   "metadata": {},
   "outputs": [],
   "source": [
    "phi = np.radians(-5.53)  #in degrees\n",
    "k = np.radians(176.821)  #in degrees\n",
    "w = np.radians(0)\n",
    "\n",
    "M = np.array([\n",
    "    [np.cos(phi) * np.cos(k), np.cos(w) * np.sin(k) + np.sin(w) * np.sin(phi) * np.cos(k), np.sin(w) * np.sin(k) - np.cos(w) * np.sin(phi) * np.cos(k)],\n",
    "    [-np.cos(k) * np.sin(k), np.cos(w) * np.cos(k) - np.sin(w) * np.sin(phi) * np.sin(k), np.sin(w) * np.cos(k) + np.cos(w) * np.sin(phi) * np.sin(k)],\n",
    "    [np.sin(phi), -np.sin(w) * np.cos(phi), np.cos(w) * np.cos(phi)]\n",
    "])\n",
    "\n",
    "print(M)"
   ]
  },
  {
   "cell_type": "markdown",
   "metadata": {},
   "source": [
    "Using the location from our fieldwork (the bonus GCP) in lat/lon and translating to east-northing:"
   ]
  },
  {
   "cell_type": "code",
   "execution_count": null,
   "metadata": {},
   "outputs": [
    {
     "data": {
      "text/plain": [
       "(52.049183608337685, 4.184132079648719, 46.191717863082886)"
      ]
     },
     "execution_count": 20,
     "metadata": {},
     "output_type": "execute_result"
    }
   ],
   "source": [
    "#set up WGS84 ellipsoid constants\n",
    "a = 6378137.0  # emi-major axis in meters\n",
    "f = 1 / 298.257223563  # lattening\n",
    "e2 = 2 * f - f**2  #square of eccentricity\n",
    "\n",
    "#ECEF coordinates from rinex file\n",
    "X = 3920198.6566\n",
    "Y = 286789.8723\n",
    "Z = 5006207.1581\n",
    "\n",
    "#longitude\n",
    "lon = np.arctan2(Y, X)\n",
    "\n",
    "#latitude\n",
    "p = np.sqrt(X**2 + Y**2)\n",
    "lat = np.arctan2(Z, p * (1 - e2))  #initial guess\n",
    "\n",
    "for _ in range(5):\n",
    "    N = a / np.sqrt(1 - e2 * np.sin(lat)**2)\n",
    "    h = p / np.cos(lat) - N\n",
    "    lat = np.arctan2(Z, p * (1 - e2 * N / (N + h)))\n",
    "\n",
    "#find final latitude and height\n",
    "N = a / np.sqrt(1 - e2 * np.sin(lat)**2)\n",
    "h = p / np.cos(lat) - N\n",
    "\n",
    "#convert to degrees\n",
    "lat_deg = np.degrees(lat)\n",
    "lon_deg = np.degrees(lon)\n",
    "\n",
    "lat_deg, lon_deg\n"
   ]
  },
  {
   "cell_type": "code",
   "execution_count": null,
   "metadata": {},
   "outputs": [],
   "source": []
  }
 ],
 "metadata": {
  "kernelspec": {
   "display_name": "Python 3",
   "language": "python",
   "name": "python3"
  },
  "language_info": {
   "codemirror_mode": {
    "name": "ipython",
    "version": 3
   },
   "file_extension": ".py",
   "mimetype": "text/x-python",
   "name": "python",
   "nbconvert_exporter": "python",
   "pygments_lexer": "ipython3",
   "version": "3.12.2"
  }
 },
 "nbformat": 4,
 "nbformat_minor": 2
}
